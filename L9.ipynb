{
 "cells": [
  {
   "cell_type": "code",
   "execution_count": 1,
   "metadata": {},
   "outputs": [
    {
     "name": "stdout",
     "output_type": "stream",
     "text": [
      "1+2+3+...10總和為: 55\n"
     ]
    }
   ],
   "source": [
    "#while迴圈\n",
    "sum=0\n",
    "count=0\n",
    "while count <= 10 :\n",
    "    sum += count\n",
    "    count +=1\n",
    "print(\"1+2+3+...10總和為:\",sum)"
   ]
  },
  {
   "cell_type": "code",
   "execution_count": 2,
   "metadata": {},
   "outputs": [
    {
     "name": "stdout",
     "output_type": "stream",
     "text": [
      "37 年後本金會變成 20065\n"
     ]
    }
   ],
   "source": [
    "#本金10000元，年利率1.9%，請問多久銀行存款會加倍\n",
    "year=0\n",
    "x=10000\n",
    "while x <= 20000:  \n",
    "    x=x*1.019\n",
    "    year +=1\n",
    "print(year,\"年後本金會變成\",int(x))"
   ]
  },
  {
   "cell_type": "code",
   "execution_count": 3,
   "metadata": {},
   "outputs": [
    {
     "name": "stdout",
     "output_type": "stream",
     "text": [
      "請輸入1~100的數字:7\n",
      "你猜錯了\n",
      "請輸入1~100的數字:9\n",
      "你猜錯了\n",
      "請輸入1~100的數字:11\n",
      "你猜對了\n"
     ]
    }
   ],
   "source": [
    "#猜數字\n",
    "number=11\n",
    "while True:\n",
    "    guess=int(input(\"請輸入1~100的數字:\"))\n",
    "    if guess == number:\n",
    "        print(\"你猜對了\")\n",
    "        break\n",
    "    else:\n",
    "        print(\"你猜錯了\")"
   ]
  },
  {
   "cell_type": "code",
   "execution_count": null,
   "metadata": {},
   "outputs": [
    {
     "name": "stdout",
     "output_type": "stream",
     "text": [
      "請輸入1~10的數字:1\n",
      "你猜錯了\n",
      "請輸入1~10的數字:5\n",
      "你猜錯了\n",
      "請輸入1~10的數字:7\n",
      "你猜錯了\n",
      "請輸入1~10的數字:8\n",
      "你猜錯了\n",
      "請輸入1~10的數字:9\n",
      "你猜對了\n"
     ]
    }
   ],
   "source": [
    "#猜數字\n",
    "import random\n",
    "number=random.randint(1,10)\n",
    "#number=11\n",
    "while True:\n",
    "    guess=int(input(\"請輸入1~10的數字:\"))\n",
    "    if guess == number:\n",
    "        print(\"你猜對了\")\n",
    "        break\n",
    "    else:\n",
    "        print(\"你猜錯了\")"
   ]
  },
  {
   "cell_type": "code",
   "execution_count": null,
   "metadata": {},
   "outputs": [],
   "source": [
    "#猜數字\n",
    "import random\n",
    "number=random.randint(1,10)\n",
    "#number=11\n",
    "while True:\n",
    "    guess=int(input(\"請輸入1~10的數字:\"))\n",
    "    if guess == number:\n",
    "        print(\"你猜對了\")\n",
    "        break\n",
    "    else:\n",
    "        if guess>number:\n",
    "            print(\"1到\",guess)\n",
    "        else:\n",
    "            print(guess,\"到10\")"
   ]
  },
  {
   "cell_type": "code",
   "execution_count": null,
   "metadata": {},
   "outputs": [],
   "source": [
    "#樂透隨機亂碼\n",
    "import numpy as np\n",
    "a=np.random.randint(1,50,size=6)\n",
    "for eacha in a:\n",
    "    print(eacha)"
   ]
  },
  {
   "cell_type": "code",
   "execution_count": null,
   "metadata": {},
   "outputs": [],
   "source": []
  }
 ],
 "metadata": {
  "kernelspec": {
   "display_name": "Python 3",
   "language": "python",
   "name": "python3"
  },
  "language_info": {
   "codemirror_mode": {
    "name": "ipython",
    "version": 3
   },
   "file_extension": ".py",
   "mimetype": "text/x-python",
   "name": "python",
   "nbconvert_exporter": "python",
   "pygments_lexer": "ipython3",
   "version": "3.6.4"
  }
 },
 "nbformat": 4,
 "nbformat_minor": 2
}
