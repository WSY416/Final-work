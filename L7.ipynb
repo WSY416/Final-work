{
 "cells": [
  {
   "cell_type": "code",
   "execution_count": 1,
   "metadata": {},
   "outputs": [
    {
     "name": "stdout",
     "output_type": "stream",
     "text": [
      "請輸入設是溫度：30\n",
      "華氏溫度是： 54.0\n"
     ]
    }
   ],
   "source": [
    "celsius = input(\"請輸入設是溫度：\")\n",
    "fahrenheit = 9/5 * int(celsius)\n",
    "print(\"華氏溫度是：\",fahrenheit)"
   ]
  },
  {
   "cell_type": "code",
   "execution_count": 2,
   "metadata": {},
   "outputs": [
    {
     "name": "stdout",
     "output_type": "stream",
     "text": [
      "樣本 =  [5, 6, 8, 7, 4, 1, 2, 3, 9, 6]\n",
      "平均數 =  5.1\n",
      "最大值 =  9\n",
      "最小值=  1\n",
      "變異數 =  6.77\n",
      "標準差=  2.6\n"
     ]
    }
   ],
   "source": [
    "import statistics as st\n",
    "sample= [5, 6, 8, 7, 4, 1, 2, 3, 9, 6]\n",
    "print(\"樣本 = \", sample)\n",
    "print(\"平均數 = \",  st.mean(sample))\n",
    "print(\"最大值 = \",  max(sample))\n",
    "print(\"最小值= \",  min(sample))\n",
    "print(\"變異數 = \", round(st.variance(sample),2))\n",
    "print(\"標準差= \",  round(st.stdev(sample),2))"
   ]
  },
  {
   "cell_type": "code",
   "execution_count": 3,
   "metadata": {},
   "outputs": [
    {
     "name": "stdout",
     "output_type": "stream",
     "text": [
      "b數字比較大\n"
     ]
    }
   ],
   "source": [
    "a=3\n",
    "b=4\n",
    "if a<=b:\n",
    "    print(\"b數字比較大\")\n",
    "else:\n",
    "    print(\"a數字比較大\")"
   ]
  },
  {
   "cell_type": "code",
   "execution_count": 4,
   "metadata": {},
   "outputs": [
    {
     "name": "stdout",
     "output_type": "stream",
     "text": [
      "總和為: 55\n"
     ]
    }
   ],
   "source": [
    "sum=0\n",
    "for count in range(1,11,1):\n",
    "#for count in range(11):\n",
    "    #sum=sum+count\n",
    "    sum+=count\n",
    "print(\"總和為:\",sum)"
   ]
  },
  {
   "cell_type": "code",
   "execution_count": 5,
   "metadata": {},
   "outputs": [
    {
     "name": "stdout",
     "output_type": "stream",
     "text": [
      "總和為: 0\n"
     ]
    }
   ],
   "source": [
    "sum=0\n",
    "for count in range(10,11,-1):\n",
    "#for count in range(11):\n",
    "    #sum=sum+count\n",
    "    sum+=count\n",
    "print(\"總和為:\",sum)"
   ]
  },
  {
   "cell_type": "code",
   "execution_count": 6,
   "metadata": {},
   "outputs": [
    {
     "name": "stdout",
     "output_type": "stream",
     "text": [
      "雞有 23 隻,兔子有 12 隻\n"
     ]
    }
   ],
   "source": [
    "#雞兔同籠。若共有35個頭，94隻腳，問共有幾隻雞?幾隻兔?\n",
    "for chicken in range(0,36):\n",
    "    rabbit=35-chicken\n",
    "    if (2*chicken+4*rabbit) == 94:\n",
    "        print(\"雞有\",chicken,\"隻,兔子有\",rabbit,\"隻\")\n",
    "        break\n",
    "else:\n",
    "    print(\"無解\")"
   ]
  },
  {
   "cell_type": "code",
   "execution_count": null,
   "metadata": {},
   "outputs": [],
   "source": []
  }
 ],
 "metadata": {
  "kernelspec": {
   "display_name": "Python 3",
   "language": "python",
   "name": "python3"
  },
  "language_info": {
   "codemirror_mode": {
    "name": "ipython",
    "version": 3
   },
   "file_extension": ".py",
   "mimetype": "text/x-python",
   "name": "python",
   "nbconvert_exporter": "python",
   "pygments_lexer": "ipython3",
   "version": "3.6.4"
  }
 },
 "nbformat": 4,
 "nbformat_minor": 2
}
