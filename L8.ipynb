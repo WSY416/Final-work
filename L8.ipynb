{
 "cells": [
  {
   "cell_type": "code",
   "execution_count": 1,
   "metadata": {},
   "outputs": [
    {
     "name": "stdout",
     "output_type": "stream",
     "text": [
      "l\n",
      "i\n",
      "s\n",
      "t\n",
      " \n",
      "s\n",
      "t\n",
      "a\n",
      "t\n",
      "e\n",
      "m\n",
      "e\n",
      "n\n",
      "t\n",
      "end\n"
     ]
    }
   ],
   "source": [
    "mylist=\"list statement\"\n",
    "for word in mylist:\n",
    "    print(word)\n",
    "else:\n",
    "    print(\"end\")"
   ]
  },
  {
   "cell_type": "code",
   "execution_count": 2,
   "metadata": {},
   "outputs": [
    {
     "name": "stdout",
     "output_type": "stream",
     "text": [
      "python\n",
      "javascript\n",
      "SQL\n",
      "SQL\n",
      "javascript\n",
      "java\n",
      "4\n"
     ]
    }
   ],
   "source": [
    "my_list=[]\n",
    "my_list1=list()\n",
    "my_list2=[\"python\",\"javascript\",\"SQL\"]\n",
    "print(my_list2[0])\n",
    "print(my_list2[1])\n",
    "print(my_list2[2])\n",
    "print(my_list2[-1])\n",
    "print(my_list2[-2])\n",
    "my_list2.append(\"java\")\n",
    "print(my_list2[-1])\n",
    "print(len(my_list2))"
   ]
  },
  {
   "cell_type": "code",
   "execution_count": 3,
   "metadata": {},
   "outputs": [
    {
     "name": "stdout",
     "output_type": "stream",
     "text": [
      "python\n",
      "javascript\n",
      "SQL\n",
      "SQL\n",
      "javascript\n",
      "java\n",
      "4\n",
      "['python', 'javascript', 'SQL', 'java']\n",
      "['c#', 'python', 'javascript', 'SQL', 'java']\n",
      "SQL\n",
      "['python', 'javascript', 'SQL']\n"
     ]
    }
   ],
   "source": [
    "my_list=[]\n",
    "my_list1=list()\n",
    "my_list2=[\"python\",\"javascript\",\"SQL\"]\n",
    "print(my_list2[0])\n",
    "print(my_list2[1])\n",
    "print(my_list2[2])\n",
    "print(my_list2[-1])\n",
    "print(my_list2[-2])\n",
    "my_list2.append(\"java\")\n",
    "print(my_list2[-1])\n",
    "print(len(my_list2))\n",
    "print(my_list2)\n",
    "my_list2.insert(0,\"c#\")\n",
    "print(my_list2)\n",
    "del my_list2[-1]\n",
    "print(my_list2[-1])\n",
    "my_list2.remove(\"c#\")\n",
    "print(my_list2)"
   ]
  },
  {
   "cell_type": "code",
   "execution_count": 4,
   "metadata": {},
   "outputs": [
    {
     "name": "stdout",
     "output_type": "stream",
     "text": [
      "python\n",
      "js\n",
      "SQL\n"
     ]
    }
   ],
   "source": [
    "#list串列 \n",
    "my_list=[]\n",
    "my_list1=list()\n",
    "my_list2=['python','js','SQL']\n",
    "print(my_list2[0]) \n",
    "print(my_list2[1])\n",
    "print(my_list2[2])"
   ]
  },
  {
   "cell_type": "code",
   "execution_count": null,
   "metadata": {},
   "outputs": [],
   "source": []
  }
 ],
 "metadata": {
  "kernelspec": {
   "display_name": "Python 3",
   "language": "python",
   "name": "python3"
  },
  "language_info": {
   "codemirror_mode": {
    "name": "ipython",
    "version": 3
   },
   "file_extension": ".py",
   "mimetype": "text/x-python",
   "name": "python",
   "nbconvert_exporter": "python",
   "pygments_lexer": "ipython3",
   "version": "3.6.4"
  }
 },
 "nbformat": 4,
 "nbformat_minor": 2
}
