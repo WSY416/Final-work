{
 "cells": [
  {
   "cell_type": "code",
   "execution_count": 1,
   "metadata": {},
   "outputs": [
    {
     "name": "stdout",
     "output_type": "stream",
     "text": [
      "[0 0 0 0 0 0 0 0 0 0 0 0 0 0 0 0 0 0 0 0 0 0 0 0 0 0 0 0 0 0 0 0 0 0 0 0 0\n",
      " 0 0 0 0 0 0 0 0 0 0 0 0 0 1 1 2 1 1 1 1 1 1 1 1 1 1 1 1 1 1 1 1 1 1 1 1 1\n",
      " 1 1 1 2 1 1 1 1 1 1 1 1 1 1 1 1 1 1 1 1 1 1 1 1 1 1 2 1 2 2 2 2 1 2 2 2 2\n",
      " 2 2 1 1 2 2 2 2 1 2 1 2 1 2 2 1 1 2 2 2 2 2 1 2 2 2 2 1 2 2 2 1 2 2 2 1 2\n",
      " 2 1]\n",
      "0.5525919445309032\n"
     ]
    }
   ],
   "source": [
    "#k-means群聚cLustering演算法\n",
    "from sklearn import datasets,cluster,metrics\n",
    "iris=datasets.load_iris()\n",
    "iris_data=iris.data\n",
    "#執行k-means群聚演算法\n",
    "result=cluster.KMeans(n_clusters=3).fit(iris_data)\n",
    "#result.labels_預測的分群結果\n",
    "print(result.labels_)\n",
    "#用silhouette score評估分群結果好壞，越接近1越好\n",
    "silhouette_avg=metrics.silhouette_score(iris_data,result.labels_)\n",
    "print(silhouette_avg)"
   ]
  },
  {
   "cell_type": "code",
   "execution_count": 3,
   "metadata": {},
   "outputs": [
    {
     "data": {
      "image/png": "[encoded data removed]",
      "text/plain": [
       "<matplotlib.figure.Figure at 0x5237940>"
      ]
     },
     "metadata": {},
     "output_type": "display_data"
    }
   ],
   "source": [
    "#k-means群聚cLustering演算法\n",
    "from sklearn import datasets,cluster,metrics\n",
    "import matplotlib.pyplot as pt\n",
    "iris=datasets.load_iris()\n",
    "iris_data=iris.data\n",
    "#執行k-means群聚演算法\n",
    "ks=range(2,11)\n",
    "silhouette_avgs=[]\n",
    "for n in ks:\n",
    "    result=cluster.KMeans(n_clusters=n).fit(iris_data)\n",
    "    silhouette_avg=metrics.silhouette_score(iris_data,result.labels_)\n",
    "    silhouette_avgs.append(silhouette_avg)\n",
    "\n",
    "pt.bar(ks,silhouette_avgs)\n",
    "pt.show()"
   ]
  },
  {
   "cell_type": "code",
   "execution_count": null,
   "metadata": {},
   "outputs": [],
   "source": []
  }
 ],
 "metadata": {
  "kernelspec": {
   "display_name": "Python 3",
   "language": "python",
   "name": "python3"
  },
  "language_info": {
   "codemirror_mode": {
    "name": "ipython",
    "version": 3
   },
   "file_extension": ".py",
   "mimetype": "text/x-python",
   "name": "python",
   "nbconvert_exporter": "python",
   "pygments_lexer": "ipython3",
   "version": "3.6.4"
  }
 },
 "nbformat": 4,
 "nbformat_minor": 2
}
