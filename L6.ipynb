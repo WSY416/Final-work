{
 "cells": [
  {
   "cell_type": "code",
   "execution_count": 1,
   "metadata": {},
   "outputs": [
    {
     "name": "stdout",
     "output_type": "stream",
     "text": [
      "3\n",
      "6\n"
     ]
    }
   ],
   "source": [
    "#長度\n",
    "a=['python','js','SQL']\n",
    "print(len(a))\n",
    "print(len(a[0]))"
   ]
  },
  {
   "cell_type": "code",
   "execution_count": 2,
   "metadata": {},
   "outputs": [
    {
     "name": "stdout",
     "output_type": "stream",
     "text": [
      "['python', 'js']\n"
     ]
    }
   ],
   "source": [
    "#刪除\n",
    "a=['python','js','go']\n",
    "del a[-1]\n",
    "print(a)"
   ]
  },
  {
   "cell_type": "code",
   "execution_count": 3,
   "metadata": {},
   "outputs": [
    {
     "name": "stdout",
     "output_type": "stream",
     "text": [
      "['java', 'python', 'js', 'go']\n"
     ]
    }
   ],
   "source": [
    "#新增至特定位置\n",
    "languages=['python','js','go']\n",
    "languages.insert(0,'java')\n",
    "print(languages)"
   ]
  },
  {
   "cell_type": "code",
   "execution_count": 4,
   "metadata": {},
   "outputs": [
    {
     "name": "stdout",
     "output_type": "stream",
     "text": [
      "['python', 'js', 'go', 'python', 'js', 'go', 'python', 'js', 'go', 'python', 'js', 'go', 'python', 'js', 'go']\n"
     ]
    }
   ],
   "source": [
    "#串列重複\n",
    "a=['python','js','go']\n",
    "print(a*5)"
   ]
  },
  {
   "cell_type": "code",
   "execution_count": 5,
   "metadata": {},
   "outputs": [
    {
     "name": "stdout",
     "output_type": "stream",
     "text": [
      "[1, 2, 3]\n",
      "[1, 3, 5, 7, 9]\n",
      "[1, 2, 3, 4, 5, 6, 7]\n",
      "1\n",
      "7\n",
      "0\n",
      "1\n",
      "[7, 6, 5, 4, 3, 2, 1]\n",
      "[1, 2, 3, 4, 5, 6, 7]\n"
     ]
    }
   ],
   "source": [
    "#串列取值\n",
    "a=[1,2,3,4,5,6,7,8,9]\n",
    "b=a[0:3]   #範圍取值\n",
    "print(b)\n",
    "c=a[0:9:2] #間格取值\n",
    "print(c)\n",
    "del a[7:9] #刪除串列某範圍的值\n",
    "print(a)\n",
    "print(min(a)) #最小值\n",
    "print(max(a)) #最大值\n",
    "print(a.index(1)) #1出現的索引值\n",
    "print(a.count(1)) #1出現的次數\n",
    "a.reverse() #串列反轉\n",
    "print(a)\n",
    "a.sort()    #串列排序\n",
    "print(a)"
   ]
  },
  {
   "cell_type": "code",
   "execution_count": null,
   "metadata": {},
   "outputs": [],
   "source": []
  }
 ],
 "metadata": {
  "kernelspec": {
   "display_name": "Python 3",
   "language": "python",
   "name": "python3"
  },
  "language_info": {
   "codemirror_mode": {
    "name": "ipython",
    "version": 3
   },
   "file_extension": ".py",
   "mimetype": "text/x-python",
   "name": "python",
   "nbconvert_exporter": "python",
   "pygments_lexer": "ipython3",
   "version": "3.6.4"
  }
 },
 "nbformat": 4,
 "nbformat_minor": 2
}
